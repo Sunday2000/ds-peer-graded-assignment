{
 "cells": [
  {
   "cell_type": "markdown",
   "id": "ab5f74bd-4dc1-456c-b931-e2d8be7a3401",
   "metadata": {},
   "source": [
    "# Data Science Tools and Ecosystem"
   ]
  },
  {
   "cell_type": "markdown",
   "id": "e3b59ab2-8bc4-49e0-905f-642ec3039ec2",
   "metadata": {},
   "source": [
    "In this notebook, Data Science Tools and Ecosystem are summarized."
   ]
  },
  {
   "cell_type": "markdown",
   "id": "a652be6b-5324-454b-9c5d-7fdf8dbc4c92",
   "metadata": {},
   "source": [
    "**Objectives:**\n",
    "- List popular languages for Data Science\n",
    "- Popular languages that Data Scientists use\n",
    "- Some of the commonly used libraries used by Data Scientists"
   ]
  },
  {
   "cell_type": "markdown",
   "id": "127314b0-a160-4687-a734-0d7adac200b9",
   "metadata": {},
   "source": [
    "Some of the popular languages that Data Scientists use are:\n",
    "1. **R**\n",
    "2. **Python**\n",
    "3. **SQL**"
   ]
  },
  {
   "cell_type": "markdown",
   "id": "1ad45ae7-bb54-4287-bff5-102848d95234",
   "metadata": {},
   "source": [
    "Some of the commonly used libraries used by Data Scientists include:\n",
    "1. **NumPy**\n",
    "2. **Matplotlib**\n",
    "3. **TensorFlow**"
   ]
  },
  {
   "cell_type": "markdown",
   "id": "c702ebbb-abab-4dd7-b68e-f4c5439f6497",
   "metadata": {},
   "source": [
    "| Data Science Tools       |\n",
    "|--------------------------|\n",
    "| Jupyter Notebook         |\n",
    "| RStudio                  |\n",
    "| Anaconda                 |"
   ]
  },
  {
   "cell_type": "markdown",
   "id": "04d4611d-1e0e-45a6-8e30-4d457cc0f3eb",
   "metadata": {},
   "source": [
    "### Below are a few examples of evaluating arithmetic expressions in Python"
   ]
  },
  {
   "cell_type": "code",
   "execution_count": 2,
   "id": "2a120e16-9516-41de-aa1c-692a86e128cd",
   "metadata": {},
   "outputs": [
    {
     "data": {
      "text/plain": [
       "17"
      ]
     },
     "execution_count": 2,
     "metadata": {},
     "output_type": "execute_result"
    }
   ],
   "source": [
    "# This a simple arithmetic expression to mutiply then add integers\n",
    "(3*4)+5"
   ]
  },
  {
   "cell_type": "code",
   "execution_count": 4,
   "id": "7621cb7f-2b05-4b27-b222-623d8f755c5a",
   "metadata": {},
   "outputs": [
    {
     "data": {
      "text/plain": [
       "3.3333333333333335"
      ]
     },
     "execution_count": 4,
     "metadata": {},
     "output_type": "execute_result"
    }
   ],
   "source": [
    "# This will convert 200 minutes to hours by diving by 60\n",
    "200/60"
   ]
  },
  {
   "cell_type": "markdown",
   "id": "045b7a5a-e2a5-422f-b32d-240284b204ee",
   "metadata": {},
   "source": [
    "## Author\n",
    "M. Sunday KODONON"
   ]
  },
  {
   "cell_type": "code",
   "execution_count": null,
   "id": "2bfbce82-7a41-4954-a96c-9631a0a0b906",
   "metadata": {},
   "outputs": [],
   "source": []
  }
 ],
 "metadata": {
  "kernelspec": {
   "display_name": "Python 3 (ipykernel)",
   "language": "python",
   "name": "python3"
  },
  "language_info": {
   "codemirror_mode": {
    "name": "ipython",
    "version": 3
   },
   "file_extension": ".py",
   "mimetype": "text/x-python",
   "name": "python",
   "nbconvert_exporter": "python",
   "pygments_lexer": "ipython3",
   "version": "3.11.9"
  }
 },
 "nbformat": 4,
 "nbformat_minor": 5
}
